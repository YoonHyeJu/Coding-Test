{
  "nbformat": 4,
  "nbformat_minor": 0,
  "metadata": {
    "colab": {
      "name": "코테_기초문법.ipynb",
      "provenance": [],
      "authorship_tag": "ABX9TyP47EghP0QaFOJmM5I40QQt",
      "include_colab_link": true
    },
    "kernelspec": {
      "name": "python3",
      "display_name": "Python 3"
    }
  },
  "cells": [
    {
      "cell_type": "markdown",
      "metadata": {
        "id": "view-in-github",
        "colab_type": "text"
      },
      "source": [
        "<a href=\"https://colab.research.google.com/github/YoonHyeJu/Coding-Test/blob/main/%EC%BD%94%ED%85%8C_%EA%B8%B0%EC%B4%88%EB%AC%B8%EB%B2%95.ipynb\" target=\"_parent\"><img src=\"https://colab.research.google.com/assets/colab-badge.svg\" alt=\"Open In Colab\"/></a>"
      ]
    },
    {
      "cell_type": "markdown",
      "metadata": {
        "id": "Hq8eKFpNHWUv"
      },
      "source": [
        "# **시간 측정**"
      ]
    },
    {
      "cell_type": "code",
      "metadata": {
        "id": "WsK-Eql_Zj2f"
      },
      "source": [
        "import time"
      ],
      "execution_count": 1,
      "outputs": []
    },
    {
      "cell_type": "code",
      "metadata": {
        "id": "6Tjx9RolZpT7"
      },
      "source": [
        "st_time = time.time() # 시작 시간 "
      ],
      "execution_count": 2,
      "outputs": []
    },
    {
      "cell_type": "code",
      "metadata": {
        "id": "q28CQMDfZuZd"
      },
      "source": [
        "array = [1,2,3,4,5] # 예시 프로그램\r\n",
        "sum=0\r\n",
        "for i in array:\r\n",
        "  sum += i"
      ],
      "execution_count": 3,
      "outputs": []
    },
    {
      "cell_type": "code",
      "metadata": {
        "colab": {
          "base_uri": "https://localhost:8080/"
        },
        "id": "KwxwynDZZ4jw",
        "outputId": "bbb77972-3c35-4258-f38c-d1d74b63b5ed"
      },
      "source": [
        "print(sum)"
      ],
      "execution_count": 4,
      "outputs": [
        {
          "output_type": "stream",
          "text": [
            "15\n"
          ],
          "name": "stdout"
        }
      ]
    },
    {
      "cell_type": "code",
      "metadata": {
        "id": "5wckCkiAZ6Wk"
      },
      "source": [
        "end_time = time.time() # 마침 시간"
      ],
      "execution_count": 5,
      "outputs": []
    },
    {
      "cell_type": "code",
      "metadata": {
        "colab": {
          "base_uri": "https://localhost:8080/"
        },
        "id": "gF776PY8Z-oj",
        "outputId": "78eec1ea-755c-4a26-e677-2b228038caae"
      },
      "source": [
        "print(\"time:\", end_time - st_time) # 소요 시간 출력"
      ],
      "execution_count": 6,
      "outputs": [
        {
          "output_type": "stream",
          "text": [
            "time: 0.03047347068786621\n"
          ],
          "name": "stdout"
        }
      ]
    },
    {
      "cell_type": "markdown",
      "metadata": {
        "id": "QOxW6u-XHoZQ"
      },
      "source": [
        "# 배열 초기화"
      ]
    },
    {
      "cell_type": "code",
      "metadata": {
        "id": "5YVWRdo6Frb6"
      },
      "source": [
        "a = [0 for i in range(10)]"
      ],
      "execution_count": 7,
      "outputs": []
    },
    {
      "cell_type": "code",
      "metadata": {
        "colab": {
          "base_uri": "https://localhost:8080/"
        },
        "id": "dvdm-wqUF3G0",
        "outputId": "fc50a451-64d6-4d2f-c213-66eb9bfa46a5"
      },
      "source": [
        "print(a)"
      ],
      "execution_count": 8,
      "outputs": [
        {
          "output_type": "stream",
          "text": [
            "[0, 0, 0, 0, 0, 0, 0, 0, 0, 0]\n"
          ],
          "name": "stdout"
        }
      ]
    },
    {
      "cell_type": "code",
      "metadata": {
        "id": "5te858GOF3oq"
      },
      "source": [
        "#n*m의 2차원 리스트 초기화\r\n",
        "m=5\r\n",
        "n=5\r\n",
        "a = [[0]*m for _ in range(n)]"
      ],
      "execution_count": 9,
      "outputs": []
    },
    {
      "cell_type": "code",
      "metadata": {
        "colab": {
          "base_uri": "https://localhost:8080/"
        },
        "id": "mpWtPr0YGzHi",
        "outputId": "9459d9ec-b5d2-4ad6-92d2-fc80a0d688d5"
      },
      "source": [
        "print(a)"
      ],
      "execution_count": 10,
      "outputs": [
        {
          "output_type": "stream",
          "text": [
            "[[0, 0, 0, 0, 0], [0, 0, 0, 0, 0], [0, 0, 0, 0, 0], [0, 0, 0, 0, 0], [0, 0, 0, 0, 0]]\n"
          ],
          "name": "stdout"
        }
      ]
    },
    {
      "cell_type": "markdown",
      "metadata": {
        "id": "tixoKWfjHxH8"
      },
      "source": [
        "# **리스트 관련 메소드**\r\n",
        "- 변수명.append(): 리스트에 원소 하나를 삽입할 때 사용\r\n",
        "- 변수명.sort(): 오름차순 정렬\r\n",
        "- 변수명.sort(reverse=Ture): 내림차순 정렬\r\n",
        "- insert(삽입할 위치 인덱스, 삽입할 값): 특정 위치에 원소를 삽입\r\n",
        "- 변수명.count(특정값): 리스트에서 특정 값을 가지는 데이터 개수 카운트\r\n",
        "- 변수명.remove(특정값): 특정 값을 갖는 원소 제거. 여러개 있어도 하나만.\r\n"
      ]
    },
    {
      "cell_type": "code",
      "metadata": {
        "id": "Syg35awcG1c9"
      },
      "source": [
        "a=[1,2,3,4]"
      ],
      "execution_count": 11,
      "outputs": []
    },
    {
      "cell_type": "code",
      "metadata": {
        "colab": {
          "base_uri": "https://localhost:8080/"
        },
        "id": "xLKdmIqbJCVj",
        "outputId": "d7f6066e-d54b-4666-9641-0267721532d9"
      },
      "source": [
        "a.append(5)\r\n",
        "print(a)"
      ],
      "execution_count": 12,
      "outputs": [
        {
          "output_type": "stream",
          "text": [
            "[1, 2, 3, 4, 5]\n"
          ],
          "name": "stdout"
        }
      ]
    },
    {
      "cell_type": "code",
      "metadata": {
        "colab": {
          "base_uri": "https://localhost:8080/"
        },
        "id": "Gq0DDC8qJEIx",
        "outputId": "c9d07868-cbb7-408c-b420-19ce664e015a"
      },
      "source": [
        "a.sort(reverse=True)\r\n",
        "print(a)"
      ],
      "execution_count": 13,
      "outputs": [
        {
          "output_type": "stream",
          "text": [
            "[5, 4, 3, 2, 1]\n"
          ],
          "name": "stdout"
        }
      ]
    },
    {
      "cell_type": "code",
      "metadata": {
        "colab": {
          "base_uri": "https://localhost:8080/"
        },
        "id": "QsM-7tWWJL0L",
        "outputId": "c88f0240-9913-4936-ea87-e68615790d79"
      },
      "source": [
        "remove_set = {3,5}\r\n",
        "\r\n",
        "result = [i for i in a if i not in remove_set]\r\n",
        "print(result)"
      ],
      "execution_count": 14,
      "outputs": [
        {
          "output_type": "stream",
          "text": [
            "[4, 2, 1]\n"
          ],
          "name": "stdout"
        }
      ]
    },
    {
      "cell_type": "markdown",
      "metadata": {
        "id": "ES0NsrCPKeoh"
      },
      "source": [
        "# **문자열**"
      ]
    },
    {
      "cell_type": "code",
      "metadata": {
        "id": "_R1STw5EJWL8"
      },
      "source": [
        "a =\"Hello\"\r\n",
        "b = \"Hyeju\""
      ],
      "execution_count": 15,
      "outputs": []
    },
    {
      "cell_type": "code",
      "metadata": {
        "colab": {
          "base_uri": "https://localhost:8080/"
        },
        "id": "IObpfIDJKlI_",
        "outputId": "c039ecc2-f021-45fa-c35e-420dd3736b2a"
      },
      "source": [
        "print(a+b)"
      ],
      "execution_count": 16,
      "outputs": [
        {
          "output_type": "stream",
          "text": [
            "HelloHyeju\n"
          ],
          "name": "stdout"
        }
      ]
    },
    {
      "cell_type": "code",
      "metadata": {
        "colab": {
          "base_uri": "https://localhost:8080/"
        },
        "id": "MLA0hNOMKmvm",
        "outputId": "71662259-90bd-402d-e449-b33aa318e307"
      },
      "source": [
        "print(a+\" \"+b)"
      ],
      "execution_count": 17,
      "outputs": [
        {
          "output_type": "stream",
          "text": [
            "Hello Hyeju\n"
          ],
          "name": "stdout"
        }
      ]
    },
    {
      "cell_type": "code",
      "metadata": {
        "colab": {
          "base_uri": "https://localhost:8080/"
        },
        "id": "s6d2wQe0Ko7K",
        "outputId": "7b57d88b-0254-4dee-fa0f-347ed959ad28"
      },
      "source": [
        "print(a*3)"
      ],
      "execution_count": 18,
      "outputs": [
        {
          "output_type": "stream",
          "text": [
            "HelloHelloHello\n"
          ],
          "name": "stdout"
        }
      ]
    },
    {
      "cell_type": "code",
      "metadata": {
        "colab": {
          "base_uri": "https://localhost:8080/"
        },
        "id": "YP_sb-tfKqOP",
        "outputId": "bdf3932c-9a92-4b90-a5a7-eb6b6101962c"
      },
      "source": [
        "print(a[1:4])"
      ],
      "execution_count": 19,
      "outputs": [
        {
          "output_type": "stream",
          "text": [
            "ell\n"
          ],
          "name": "stdout"
        }
      ]
    },
    {
      "cell_type": "markdown",
      "metadata": {
        "id": "7UV2MtJfK1Oh"
      },
      "source": [
        "# **튜플 자료형**\r\n",
        "- **서로 다른 성질의 데이터를 묶어서 관리해야 할 때 사용하면 좋다!**\r\n",
        "\r\n",
        "ex) 최단 경로 알고리즘: (비용, 노드 번호) 형태\r\n",
        "- **데이터의 나열을 해싱의 키 값으로 사용해야 할 때**\r\n",
        "- **리스트보다 메모리를 효율적으로 사용해야 할 때**"
      ]
    },
    {
      "cell_type": "code",
      "metadata": {
        "id": "yix-Ocm3Ks0v"
      },
      "source": [
        "a = (1,2,3,4,5,6,7,8,9)"
      ],
      "execution_count": 20,
      "outputs": []
    },
    {
      "cell_type": "code",
      "metadata": {
        "colab": {
          "base_uri": "https://localhost:8080/"
        },
        "id": "ipnfRpJCK6e3",
        "outputId": "1900e1ab-5dd4-447c-9312-a5ba355a6f39"
      },
      "source": [
        "print(a[3])"
      ],
      "execution_count": 21,
      "outputs": [
        {
          "output_type": "stream",
          "text": [
            "4\n"
          ],
          "name": "stdout"
        }
      ]
    },
    {
      "cell_type": "code",
      "metadata": {
        "colab": {
          "base_uri": "https://localhost:8080/"
        },
        "id": "Ytlzr1I5K78R",
        "outputId": "0f794dea-392f-45ff-be8d-82073d0d3c91"
      },
      "source": [
        "print(a[2:4])"
      ],
      "execution_count": 22,
      "outputs": [
        {
          "output_type": "stream",
          "text": [
            "(3, 4)\n"
          ],
          "name": "stdout"
        }
      ]
    },
    {
      "cell_type": "code",
      "metadata": {
        "colab": {
          "base_uri": "https://localhost:8080/",
          "height": 171
        },
        "id": "Wd6oNo9QK9NU",
        "outputId": "6e11117a-969e-4bc8-8eb2-266e80972410"
      },
      "source": [
        "a[0] = 10"
      ],
      "execution_count": 23,
      "outputs": [
        {
          "output_type": "error",
          "ename": "TypeError",
          "evalue": "ignored",
          "traceback": [
            "\u001b[0;31m---------------------------------------------------------------------------\u001b[0m",
            "\u001b[0;31mTypeError\u001b[0m                                 Traceback (most recent call last)",
            "\u001b[0;32m<ipython-input-23-88fe5a9b0ebf>\u001b[0m in \u001b[0;36m<module>\u001b[0;34m()\u001b[0m\n\u001b[0;32m----> 1\u001b[0;31m \u001b[0ma\u001b[0m\u001b[0;34m[\u001b[0m\u001b[0;36m0\u001b[0m\u001b[0;34m]\u001b[0m \u001b[0;34m=\u001b[0m \u001b[0;36m10\u001b[0m\u001b[0;34m\u001b[0m\u001b[0;34m\u001b[0m\u001b[0m\n\u001b[0m",
            "\u001b[0;31mTypeError\u001b[0m: 'tuple' object does not support item assignment"
          ]
        }
      ]
    },
    {
      "cell_type": "markdown",
      "metadata": {
        "id": "fFqzTij8LfE9"
      },
      "source": [
        "# **사전 자료형**\r\n",
        "- 키와 값의 쌍을 데이터로 가지는 자료형\r\n",
        "- 데이터의 조회 및 수정 "
      ]
    },
    {
      "cell_type": "code",
      "metadata": {
        "id": "JZHHBQ7FLCy1"
      },
      "source": [
        "data = dict() #초기화\r\n",
        "\r\n",
        "data[\"사과\"] = \"Apple\"\r\n",
        "data[\"바나나\"] = \"Banana\"\r\n",
        "data[\"포도\"] = \"Grape\""
      ],
      "execution_count": 24,
      "outputs": []
    },
    {
      "cell_type": "code",
      "metadata": {
        "colab": {
          "base_uri": "https://localhost:8080/"
        },
        "id": "k4iTbnXON0uQ",
        "outputId": "1d0d329f-c821-4c4a-fb9c-bee0975e4e5e"
      },
      "source": [
        "print(data)"
      ],
      "execution_count": 25,
      "outputs": [
        {
          "output_type": "stream",
          "text": [
            "{'사과': 'Apple', '바나나': 'Banana', '포도': 'Grape'}\n"
          ],
          "name": "stdout"
        }
      ]
    },
    {
      "cell_type": "code",
      "metadata": {
        "colab": {
          "base_uri": "https://localhost:8080/"
        },
        "id": "KFz7KC56N2-G",
        "outputId": "d13d105a-bab5-4f5f-8d6f-21a7dabe1a07"
      },
      "source": [
        "if '사과' in data:\r\n",
        "  print(\"사과를 키로 가지는 데이터가 존재함\")"
      ],
      "execution_count": 26,
      "outputs": [
        {
          "output_type": "stream",
          "text": [
            "사과를 키로 가지는 데이터가 존재함\n"
          ],
          "name": "stdout"
        }
      ]
    },
    {
      "cell_type": "code",
      "metadata": {
        "colab": {
          "base_uri": "https://localhost:8080/"
        },
        "id": "SB-uNoGuN97k",
        "outputId": "4daa7c04-cd19-4b15-8cdc-0630355f3b3b"
      },
      "source": [
        "print(data[\"사과\"])"
      ],
      "execution_count": 27,
      "outputs": [
        {
          "output_type": "stream",
          "text": [
            "Apple\n"
          ],
          "name": "stdout"
        }
      ]
    },
    {
      "cell_type": "code",
      "metadata": {
        "colab": {
          "base_uri": "https://localhost:8080/"
        },
        "id": "Yf03-yH-Oh51",
        "outputId": "4decb569-4fd6-43c5-9b06-778d8f1b6cc6"
      },
      "source": [
        "key_list = list(data.keys())\r\n",
        "print(key_list)"
      ],
      "execution_count": 28,
      "outputs": [
        {
          "output_type": "stream",
          "text": [
            "['사과', '바나나', '포도']\n"
          ],
          "name": "stdout"
        }
      ]
    },
    {
      "cell_type": "code",
      "metadata": {
        "colab": {
          "base_uri": "https://localhost:8080/"
        },
        "id": "UnQLDY9-Om-a",
        "outputId": "3099f23c-3831-4d77-90d5-6dbb872edd50"
      },
      "source": [
        "value_list = list(data.values())\r\n",
        "print(value_list)"
      ],
      "execution_count": 29,
      "outputs": [
        {
          "output_type": "stream",
          "text": [
            "['Apple', 'Banana', 'Grape']\n"
          ],
          "name": "stdout"
        }
      ]
    },
    {
      "cell_type": "markdown",
      "metadata": {
        "id": "Nqbd0eLRO2ie"
      },
      "source": [
        "# **집합 자료형**\r\n",
        "- 중복 허용 X\r\n",
        "- 순서 X\r\n",
        "- 리스트 혹은 문자열로 초기화. 이때 set() 사용\r\n",
        "- 중괄호 {} 안에 원소 삽입"
      ]
    },
    {
      "cell_type": "code",
      "metadata": {
        "colab": {
          "base_uri": "https://localhost:8080/"
        },
        "id": "UI9FceFZOt8d",
        "outputId": "bab8c6e0-1e4c-4e56-d2d4-a289eb4b340d"
      },
      "source": [
        "data=set([1,2,3,4,5,5,6,6,6]) # 초기화 방법 1\r\n",
        "print(data)"
      ],
      "execution_count": 30,
      "outputs": [
        {
          "output_type": "stream",
          "text": [
            "{1, 2, 3, 4, 5, 6}\n"
          ],
          "name": "stdout"
        }
      ]
    },
    {
      "cell_type": "code",
      "metadata": {
        "colab": {
          "base_uri": "https://localhost:8080/"
        },
        "id": "hTuFom4xP8gj",
        "outputId": "2ae38d15-3817-4b2d-adce-389f6b2621f8"
      },
      "source": [
        "data = {1,2,2,3,4,4,5,5,5}\r\n",
        "print(data)"
      ],
      "execution_count": 31,
      "outputs": [
        {
          "output_type": "stream",
          "text": [
            "{1, 2, 3, 4, 5}\n"
          ],
          "name": "stdout"
        }
      ]
    },
    {
      "cell_type": "markdown",
      "metadata": {
        "id": "Tc2IYRLtG8-G"
      },
      "source": [
        "# **기본 입출력**\r\n",
        "- input(): 한 줄의 문자열을 입력 받는 함수\r\n",
        "- map(): 리스트의 모든 원소에 각각 특정한 함수를 적용할 때 사용\r\n"
      ]
    },
    {
      "cell_type": "code",
      "metadata": {
        "colab": {
          "base_uri": "https://localhost:8080/",
          "height": 189
        },
        "id": "8JcS_imqHzTO",
        "outputId": "b2d5ded1-7ae0-4304-aa29-cb223c7e9b25"
      },
      "source": [
        "n=int(input())"
      ],
      "execution_count": 32,
      "outputs": [
        {
          "output_type": "stream",
          "text": [
            "\n"
          ],
          "name": "stdout"
        },
        {
          "output_type": "error",
          "ename": "ValueError",
          "evalue": "ignored",
          "traceback": [
            "\u001b[0;31m---------------------------------------------------------------------------\u001b[0m",
            "\u001b[0;31mValueError\u001b[0m                                Traceback (most recent call last)",
            "\u001b[0;32m<ipython-input-32-c76fb20b38bd>\u001b[0m in \u001b[0;36m<module>\u001b[0;34m()\u001b[0m\n\u001b[0;32m----> 1\u001b[0;31m \u001b[0mn\u001b[0m\u001b[0;34m=\u001b[0m\u001b[0mint\u001b[0m\u001b[0;34m(\u001b[0m\u001b[0minput\u001b[0m\u001b[0;34m(\u001b[0m\u001b[0;34m)\u001b[0m\u001b[0;34m)\u001b[0m\u001b[0;34m\u001b[0m\u001b[0;34m\u001b[0m\u001b[0m\n\u001b[0m",
            "\u001b[0;31mValueError\u001b[0m: invalid literal for int() with base 10: ''"
          ]
        }
      ]
    },
    {
      "cell_type": "code",
      "metadata": {
        "id": "BB8dLzTJH7Au"
      },
      "source": [
        "print(n)"
      ],
      "execution_count": null,
      "outputs": []
    },
    {
      "cell_type": "code",
      "metadata": {
        "id": "Y_Z0dEOLIKdJ"
      },
      "source": [
        "data=map(int,input().split())"
      ],
      "execution_count": null,
      "outputs": []
    },
    {
      "cell_type": "code",
      "metadata": {
        "id": "Xbd3-avTQDes"
      },
      "source": [
        "data= list(map(int, input().split()))"
      ],
      "execution_count": null,
      "outputs": []
    },
    {
      "cell_type": "code",
      "metadata": {
        "id": "0SMMwZqNIg0c"
      },
      "source": [
        "print(data)"
      ],
      "execution_count": null,
      "outputs": []
    },
    {
      "cell_type": "code",
      "metadata": {
        "colab": {
          "base_uri": "https://localhost:8080/",
          "height": 189
        },
        "id": "0wrSYUs0IjFC",
        "outputId": "b976ed48-57ad-45ba-bf3d-897078edf3ed"
      },
      "source": [
        "a,b = map(int, input().split())"
      ],
      "execution_count": 33,
      "outputs": [
        {
          "output_type": "stream",
          "text": [
            "\n"
          ],
          "name": "stdout"
        },
        {
          "output_type": "error",
          "ename": "ValueError",
          "evalue": "ignored",
          "traceback": [
            "\u001b[0;31m---------------------------------------------------------------------------\u001b[0m",
            "\u001b[0;31mValueError\u001b[0m                                Traceback (most recent call last)",
            "\u001b[0;32m<ipython-input-33-9fa8b3f08cc4>\u001b[0m in \u001b[0;36m<module>\u001b[0;34m()\u001b[0m\n\u001b[0;32m----> 1\u001b[0;31m \u001b[0ma\u001b[0m\u001b[0;34m,\u001b[0m\u001b[0mb\u001b[0m \u001b[0;34m=\u001b[0m \u001b[0mmap\u001b[0m\u001b[0;34m(\u001b[0m\u001b[0mint\u001b[0m\u001b[0;34m,\u001b[0m \u001b[0minput\u001b[0m\u001b[0;34m(\u001b[0m\u001b[0;34m)\u001b[0m\u001b[0;34m.\u001b[0m\u001b[0msplit\u001b[0m\u001b[0;34m(\u001b[0m\u001b[0;34m)\u001b[0m\u001b[0;34m)\u001b[0m\u001b[0;34m\u001b[0m\u001b[0;34m\u001b[0m\u001b[0m\n\u001b[0m",
            "\u001b[0;31mValueError\u001b[0m: not enough values to unpack (expected 2, got 0)"
          ]
        }
      ]
    },
    {
      "cell_type": "code",
      "metadata": {
        "id": "y3JXA0QLInbq"
      },
      "source": [
        "print(a)\r\n",
        "print(b)"
      ],
      "execution_count": null,
      "outputs": []
    },
    {
      "cell_type": "code",
      "metadata": {
        "id": "Ziqk9-IhIrCL"
      },
      "source": [
        "#사용자로부터 입력을 빠르게 받아야 하는 경우\r\n",
        "import sys\r\n",
        "data = sys.stdin.readline()\r\n",
        "\r\n",
        "# 입력 후 엔터가 줄 바꿈 기호로 입력되므로 rstrip() 메서드 함께 사용"
      ],
      "execution_count": null,
      "outputs": []
    },
    {
      "cell_type": "code",
      "metadata": {
        "id": "vPCYC6e2JX_4"
      },
      "source": [
        "a = 1\r\n",
        "b = 2\r\n",
        "print(a, b)"
      ],
      "execution_count": null,
      "outputs": []
    },
    {
      "cell_type": "code",
      "metadata": {
        "id": "sjYQ1KHoJ8I5"
      },
      "source": [
        "print(7, end=\" \") # end 사용하면 줄 바꿈 없이 출력됨  \r\n",
        "print(8, end=\" \")"
      ],
      "execution_count": null,
      "outputs": []
    },
    {
      "cell_type": "code",
      "metadata": {
        "id": "asdZIah1KA-v"
      },
      "source": [
        ""
      ],
      "execution_count": null,
      "outputs": []
    },
    {
      "cell_type": "markdown",
      "metadata": {
        "id": "zn0F_gVrQxCR"
      },
      "source": [
        "# **함수**\r\n",
        "\r\n",
        "def 함수명(매개변수):\r\n",
        "    \r\n",
        "    실행할 소스코드\r\n",
        "    \r\n",
        "    return 반환 값"
      ]
    },
    {
      "cell_type": "code",
      "metadata": {
        "id": "UqWLitDyQ6EF"
      },
      "source": [
        "def add(a,b):\r\n",
        "  return a+b"
      ],
      "execution_count": 34,
      "outputs": []
    },
    {
      "cell_type": "code",
      "metadata": {
        "colab": {
          "base_uri": "https://localhost:8080/"
        },
        "id": "dL6xKoiNRw7x",
        "outputId": "f5091453-f6f9-4f35-bd4a-5fdfa4569519"
      },
      "source": [
        "result = add(3,7)\r\n",
        "print(result)"
      ],
      "execution_count": 35,
      "outputs": [
        {
          "output_type": "stream",
          "text": [
            "10\n"
          ],
          "name": "stdout"
        }
      ]
    },
    {
      "cell_type": "code",
      "metadata": {
        "colab": {
          "base_uri": "https://localhost:8080/"
        },
        "id": "hsp6bXWTRzJk",
        "outputId": "575970cf-03d8-40a6-f9be-4cc644d404d4"
      },
      "source": [
        "#global 변수\r\n",
        "a = 10\r\n",
        "\r\n",
        "def func():\r\n",
        "  global a\r\n",
        "  a += 1\r\n",
        "  print(a)\r\n",
        "\r\n",
        "func()"
      ],
      "execution_count": 36,
      "outputs": [
        {
          "output_type": "stream",
          "text": [
            "11\n"
          ],
          "name": "stdout"
        }
      ]
    },
    {
      "cell_type": "markdown",
      "metadata": {
        "id": "-6ZSIc3rTS7r"
      },
      "source": [
        "# **람다 표현식**\r\n",
        "- 특정한 기능을 수행하는 함수를 한 줄에 작성할 수 있음"
      ]
    },
    {
      "cell_type": "code",
      "metadata": {
        "colab": {
          "base_uri": "https://localhost:8080/"
        },
        "id": "IFTm2keFSZcP",
        "outputId": "de8e21bd-e6f1-4353-9a35-51f14161dd34"
      },
      "source": [
        "#람다 표현식으로 구현한 add 메서드\r\n",
        "print((lambda a,b: a+b)(3,7)) # 함수의 기능이 간단하거나, 한번 사용할 함수에 사용하면 좋음"
      ],
      "execution_count": 37,
      "outputs": [
        {
          "output_type": "stream",
          "text": [
            "10\n"
          ],
          "name": "stdout"
        }
      ]
    },
    {
      "cell_type": "code",
      "metadata": {
        "colab": {
          "base_uri": "https://localhost:8080/"
        },
        "id": "dGBiYAxBTiTH",
        "outputId": "ce66160a-7651-40ce-b066-c383f8e4ebb2"
      },
      "source": [
        "array = [('홍길동', 50), ('이순신', 32), ('아무개', 74)]\r\n",
        "\r\n",
        "def my_key(x):\r\n",
        "  return x[1]\r\n",
        "\r\n",
        "print(sorted(array, key=my_key))\r\n",
        "print(sorted(array, key=lambda x:x[1]))"
      ],
      "execution_count": 38,
      "outputs": [
        {
          "output_type": "stream",
          "text": [
            "[('이순신', 32), ('홍길동', 50), ('아무개', 74)]\n",
            "[('이순신', 32), ('홍길동', 50), ('아무개', 74)]\n"
          ],
          "name": "stdout"
        }
      ]
    },
    {
      "cell_type": "code",
      "metadata": {
        "colab": {
          "base_uri": "https://localhost:8080/"
        },
        "id": "TZkYHWncUTTg",
        "outputId": "702cbc1f-a34b-4cfa-e242-19141d653399"
      },
      "source": [
        "list1 = [1,2,3,4,5]\r\n",
        "list2 = [6,7,8,9,10]\r\n",
        "\r\n",
        "result = map(lambda a,b: a+b, list1, list2)\r\n",
        "\r\n",
        "print(list(result))"
      ],
      "execution_count": 39,
      "outputs": [
        {
          "output_type": "stream",
          "text": [
            "[7, 9, 11, 13, 15]\n"
          ],
          "name": "stdout"
        }
      ]
    },
    {
      "cell_type": "markdown",
      "metadata": {
        "id": "wR27TSeLUuQ9"
      },
      "source": [
        "# **실전에서 유용한 라이브러리**\r\n",
        "- 내장 함수 ex) 기본 입출력, 정렬 함수\r\n",
        "- itertools: 반복되는 형태의 데이터를 처리하기 위해 사용\r\n",
        "  \r\n",
        "  -> 순열과 조합 라이브러리가 자주 사용됨\r\n",
        "- headq: 힙(Heap) 자료구조를 제공   \r\n",
        "  -> 우선순위 큐 기능을 구현하기 위해 사용\r\n",
        "- bisect: 이진 탐색 기능 제공\r\n",
        "- collections: 덱(deque), 카운터(Counter) 등의 유용한 자료구조 포함\r\n",
        "- math: 필수적인 수학적 기능 제공\r\n",
        "  \r\n",
        "  -> 팩토리얼, 제곱근, 최대공약수, 삼각함수 관련 함수, 파이 등.."
      ]
    },
    {
      "cell_type": "code",
      "metadata": {
        "colab": {
          "base_uri": "https://localhost:8080/",
          "height": 243
        },
        "id": "zCgZJeMMUlk_",
        "outputId": "defb8958-9254-4140-e3a3-936a5c99f165"
      },
      "source": [
        "#sum()\r\n",
        "result = sum([1,2,3,4,5])\r\n",
        "print(result)\r\n",
        "\r\n",
        "#min(), max()\r\n",
        "min_result = min([1,2,3,4,5])\r\n",
        "print(min_result)\r\n",
        "\r\n",
        "#eval()\r\n",
        "result = eval(\"(3+5)*7\")\r\n",
        "print(result)\r\n",
        "\r\n",
        "#sorted()\r\n",
        "result = sorted([1,3,5,2,4])\r\n",
        "print(result)\r\n",
        "result = sorted([1,3,5,2,4], reverse=True)\r\n",
        "print(result)\r\n",
        "\r\n",
        "#sorted() with key\r\n",
        "array = [('홍길동', 50), ('이순신', 32), ('아무개', 74)]\r\n",
        "result = sorted(array, key=lambda x: x[1], reverse=True)\r\n",
        "print(result)"
      ],
      "execution_count": 40,
      "outputs": [
        {
          "output_type": "error",
          "ename": "TypeError",
          "evalue": "ignored",
          "traceback": [
            "\u001b[0;31m---------------------------------------------------------------------------\u001b[0m",
            "\u001b[0;31mTypeError\u001b[0m                                 Traceback (most recent call last)",
            "\u001b[0;32m<ipython-input-40-fc069c6c569d>\u001b[0m in \u001b[0;36m<module>\u001b[0;34m()\u001b[0m\n\u001b[1;32m      1\u001b[0m \u001b[0;31m#sum()\u001b[0m\u001b[0;34m\u001b[0m\u001b[0;34m\u001b[0m\u001b[0;34m\u001b[0m\u001b[0m\n\u001b[0;32m----> 2\u001b[0;31m \u001b[0mresult\u001b[0m \u001b[0;34m=\u001b[0m \u001b[0msum\u001b[0m\u001b[0;34m(\u001b[0m\u001b[0;34m[\u001b[0m\u001b[0;36m1\u001b[0m\u001b[0;34m,\u001b[0m\u001b[0;36m2\u001b[0m\u001b[0;34m,\u001b[0m\u001b[0;36m3\u001b[0m\u001b[0;34m,\u001b[0m\u001b[0;36m4\u001b[0m\u001b[0;34m,\u001b[0m\u001b[0;36m5\u001b[0m\u001b[0;34m]\u001b[0m\u001b[0;34m)\u001b[0m\u001b[0;34m\u001b[0m\u001b[0;34m\u001b[0m\u001b[0m\n\u001b[0m\u001b[1;32m      3\u001b[0m \u001b[0mprint\u001b[0m\u001b[0;34m(\u001b[0m\u001b[0mresult\u001b[0m\u001b[0;34m)\u001b[0m\u001b[0;34m\u001b[0m\u001b[0;34m\u001b[0m\u001b[0m\n\u001b[1;32m      4\u001b[0m \u001b[0;34m\u001b[0m\u001b[0m\n\u001b[1;32m      5\u001b[0m \u001b[0;31m#min(), max()\u001b[0m\u001b[0;34m\u001b[0m\u001b[0;34m\u001b[0m\u001b[0;34m\u001b[0m\u001b[0m\n",
            "\u001b[0;31mTypeError\u001b[0m: 'int' object is not callable"
          ]
        }
      ]
    },
    {
      "cell_type": "markdown",
      "metadata": {
        "id": "PjjA-BleWtOc"
      },
      "source": [
        "# **순열과 조합**\r\n",
        "순열: 서로 다른 n개에서 서로 다른 r개를 선택하여 일렬로 나열하는 것\r\n",
        "\r\n",
        "조합: 서로 다른 n개에서 순서 상관없이 서로 다른 r개를 선택하는 것"
      ]
    },
    {
      "cell_type": "code",
      "metadata": {
        "colab": {
          "base_uri": "https://localhost:8080/"
        },
        "id": "XJKI5W_KVp03",
        "outputId": "764aeb7f-3961-41af-f486-d46d40cce7c3"
      },
      "source": [
        "# 순열\r\n",
        "from itertools import permutations \r\n",
        "\r\n",
        "data = ['A', 'B', 'C']\r\n",
        "\r\n",
        "result = list(permutations(data,3))\r\n",
        "print(result)"
      ],
      "execution_count": 41,
      "outputs": [
        {
          "output_type": "stream",
          "text": [
            "[('A', 'B', 'C'), ('A', 'C', 'B'), ('B', 'A', 'C'), ('B', 'C', 'A'), ('C', 'A', 'B'), ('C', 'B', 'A')]\n"
          ],
          "name": "stdout"
        }
      ]
    },
    {
      "cell_type": "code",
      "metadata": {
        "colab": {
          "base_uri": "https://localhost:8080/"
        },
        "id": "u7hsreVkXagY",
        "outputId": "56ec0ef6-56b0-46b6-c7c5-25ae57a5b732"
      },
      "source": [
        "# 조합\r\n",
        "from itertools import combinations\r\n",
        "\r\n",
        "data = ['a', 'b', 'c']\r\n",
        "\r\n",
        "result = list(combinations(data,2))\r\n",
        "print(result)"
      ],
      "execution_count": 42,
      "outputs": [
        {
          "output_type": "stream",
          "text": [
            "[('a', 'b'), ('a', 'c'), ('b', 'c')]\n"
          ],
          "name": "stdout"
        }
      ]
    },
    {
      "cell_type": "code",
      "metadata": {
        "colab": {
          "base_uri": "https://localhost:8080/"
        },
        "id": "PCWUTCswYA0q",
        "outputId": "14d6a232-b48b-4edb-ad9f-d01e1d99b2fd"
      },
      "source": [
        "# 중복 순열\r\n",
        "from itertools import product\r\n",
        "\r\n",
        "data = ['a','b','c']\r\n",
        "\r\n",
        "result = list(product(data, repeat=2)) # 2개를 뽑는 모든 순열 구하기\r\n",
        "print(result)"
      ],
      "execution_count": 43,
      "outputs": [
        {
          "output_type": "stream",
          "text": [
            "[('a', 'a'), ('a', 'b'), ('a', 'c'), ('b', 'a'), ('b', 'b'), ('b', 'c'), ('c', 'a'), ('c', 'b'), ('c', 'c')]\n"
          ],
          "name": "stdout"
        }
      ]
    },
    {
      "cell_type": "code",
      "metadata": {
        "colab": {
          "base_uri": "https://localhost:8080/"
        },
        "id": "uhRe4FYyYVsF",
        "outputId": "f4481d10-87d6-411c-8285-cfbc9b769bd1"
      },
      "source": [
        "# 중복 조합\r\n",
        "from itertools import combinations_with_replacement\r\n",
        "\r\n",
        "data = ['a','b','c']\r\n",
        "\r\n",
        "result = list(combinations_with_replacement(data,2))\r\n",
        "print(result)"
      ],
      "execution_count": 44,
      "outputs": [
        {
          "output_type": "stream",
          "text": [
            "[('a', 'a'), ('a', 'b'), ('a', 'c'), ('b', 'b'), ('b', 'c'), ('c', 'c')]\n"
          ],
          "name": "stdout"
        }
      ]
    },
    {
      "cell_type": "code",
      "metadata": {
        "id": "orkt3y2pYjL0"
      },
      "source": [
        ""
      ],
      "execution_count": 44,
      "outputs": []
    }
  ]
}