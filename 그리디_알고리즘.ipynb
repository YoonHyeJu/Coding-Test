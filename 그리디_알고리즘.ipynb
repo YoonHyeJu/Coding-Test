{
  "nbformat": 4,
  "nbformat_minor": 0,
  "metadata": {
    "colab": {
      "name": "그리디 알고리즘.ipynb",
      "provenance": [],
      "authorship_tag": "ABX9TyNA34+4AbFA/BXK3X87dg70",
      "include_colab_link": true
    },
    "kernelspec": {
      "name": "python3",
      "display_name": "Python 3"
    }
  },
  "cells": [
    {
      "cell_type": "markdown",
      "metadata": {
        "id": "view-in-github",
        "colab_type": "text"
      },
      "source": [
        "<a href=\"https://colab.research.google.com/github/YoonHyeJu/Coding-Test/blob/main/%EA%B7%B8%EB%A6%AC%EB%94%94_%EC%95%8C%EA%B3%A0%EB%A6%AC%EC%A6%98.ipynb\" target=\"_parent\"><img src=\"https://colab.research.google.com/assets/colab-badge.svg\" alt=\"Open In Colab\"/></a>"
      ]
    },
    {
      "cell_type": "markdown",
      "metadata": {
        "id": "wfHDL0ppgl0r"
      },
      "source": [
        "# **그리디 알고리즘(탐욕법)**\r\n",
        "- 현재 상황에서 지금 당장 좋은 것만 고르는 방법\r\n",
        "- 일반적인 상황에서 그리디 알고리즘은 최적의 해를 보장할 수 X\r\n",
        "- BUT, 코테에서는 탐욕법으로 얻은 해가 최적의 해가 되는 경우에 출제됨\r\n"
      ]
    },
    {
      "cell_type": "markdown",
      "metadata": {
        "id": "lYyq1o_yk068"
      },
      "source": [
        "* **거스름 돈 그리디 알고리즘**\r\n",
        "\r\n",
        ": 500원, 100원, 50원, 10원 동전으로 N(거슬러 주어야 할 돈)원을 거슬러 줄 때, 동전의 최소 개수 구하기. 단, 거슬러 줘야 할 돈 N은 항상 10의 배수\r\n"
      ]
    },
    {
      "cell_type": "code",
      "metadata": {
        "colab": {
          "base_uri": "https://localhost:8080/"
        },
        "id": "NCEnstDPghTl",
        "outputId": "89dc8cdd-861c-4ef5-ab49-7dd1bb3ce8a1"
      },
      "source": [
        "### 내 풀이 ###\r\n",
        "n = 1260\r\n",
        "coin = [500, 100, 50, 10]\r\n",
        "count = 0\r\n",
        "sum=0\r\n",
        "\r\n",
        "for c in coin:\r\n",
        "  count = n // c\r\n",
        "  n = n % (c * count)\r\n",
        "  sum += count\r\n",
        "\r\n",
        "print(sum)"
      ],
      "execution_count": 2,
      "outputs": [
        {
          "output_type": "stream",
          "text": [
            "6\n"
          ],
          "name": "stdout"
        }
      ]
    },
    {
      "cell_type": "code",
      "metadata": {
        "colab": {
          "base_uri": "https://localhost:8080/"
        },
        "id": "Ys7FN5Qtl_Vl",
        "outputId": "02a399af-935b-470c-b3d1-e2887c6183f7"
      },
      "source": [
        "### 답안 예시 ###\r\n",
        "n= 1260\r\n",
        "count = 0\r\n",
        "\r\n",
        "# 큰 단위의 화폐부터 차례대로 확인하기\r\n",
        "array = [500, 100, 50, 10]\r\n",
        "\r\n",
        "for coin in array:\r\n",
        "  count += n//coin\r\n",
        "  n %= coin\r\n",
        "\r\n",
        "print(count)"
      ],
      "execution_count": 3,
      "outputs": [
        {
          "output_type": "stream",
          "text": [
            "6\n"
          ],
          "name": "stdout"
        }
      ]
    },
    {
      "cell_type": "markdown",
      "metadata": {
        "id": "HrDtRtafrqDT"
      },
      "source": [
        "<1일 될 때까지>\r\n",
        "1. N에서 1 빼기\r\n",
        "2. N을 K로 나누기 \r\n",
        "위의 2가지 과정만 수행 가능\r\n",
        "-> N이 1이 될 때까지의 최소 수행 횟수 구하기\r\n"
      ]
    },
    {
      "cell_type": "code",
      "metadata": {
        "colab": {
          "base_uri": "https://localhost:8080/"
        },
        "id": "bL_rZeiEm4Ea",
        "outputId": "a75a0154-128e-40f3-8301-ac7afe5f4c25"
      },
      "source": [
        "### 내 답안 ###\r\n",
        "n,k = map(int,input().split())\r\n",
        "\r\n",
        "count = 0\r\n",
        "\r\n",
        "while(True):\r\n",
        "  if n % k == 0: # n을 k로 나눌 수 있을 때 나누기 실행\r\n",
        "    n /= k\r\n",
        "    count+=1\r\n",
        "  else: # 나누어 떨어지지 않을 때는 빼기 작업 진행\r\n",
        "    n -= 1\r\n",
        "    count +=1\r\n",
        "  if n == 1:\r\n",
        "    break\r\n",
        "\r\n",
        "print(count)"
      ],
      "execution_count": 6,
      "outputs": [
        {
          "output_type": "stream",
          "text": [
            "25 3\n",
            "6\n"
          ],
          "name": "stdout"
        }
      ]
    },
    {
      "cell_type": "code",
      "metadata": {
        "colab": {
          "base_uri": "https://localhost:8080/"
        },
        "id": "NSSR6nPCrGc1",
        "outputId": "1ad66a79-0a8a-4c96-b3cf-8222e7bb8c6c"
      },
      "source": [
        "### 예시 답안 ###\r\n",
        "n,k = map(int,input().split())\r\n",
        "\r\n",
        "result = 0\r\n",
        "\r\n",
        "while True:\r\n",
        "  #N이 K로 나누어 떨어지는 수가 될 때까지 빼기\r\n",
        "  target = (n//k) * k\r\n",
        "  result += (n-target) # 1을 빼는 연산 횟수를 한번에 처리\r\n",
        "  n = target\r\n",
        "  if n<k:\r\n",
        "    break\r\n",
        "  result += 1\r\n",
        "  n//=k\r\n",
        "\r\n",
        "result += (n-1)\r\n",
        "print(result)"
      ],
      "execution_count": 47,
      "outputs": [
        {
          "output_type": "stream",
          "text": [
            "25 3\n",
            "6\n"
          ],
          "name": "stdout"
        }
      ]
    },
    {
      "cell_type": "markdown",
      "metadata": {
        "id": "-uo3jrf77TRF"
      },
      "source": [
        "<곱하기 혹은 더하기>\r\n",
        "- 각 자리가 숫자 (0~9)로 이루어진 문자열 S가 존재.\r\n",
        "- 왼쪽부터 하나씩 모든 숫자 사이에 '+' 혹은 'x' 연산자 넣어\r\n",
        "- 만들어질 수 있는 가장 큰 수 구하기"
      ]
    },
    {
      "cell_type": "code",
      "metadata": {
        "colab": {
          "base_uri": "https://localhost:8080/"
        },
        "id": "KdmuogLVtniV",
        "outputId": "a9b44cdf-9825-4120-eece-8f9d4db636a9"
      },
      "source": [
        "data = input() # 문자열 입력\r\n",
        "\r\n",
        "result = int(data[0])\r\n",
        "\r\n",
        "for i in range(1,len(data)):\r\n",
        "  num = int(data[i])\r\n",
        "  if num<=1 or result <=1:\r\n",
        "    result += num\r\n",
        "  else:\r\n",
        "    result *= num\r\n",
        "\r\n",
        "print(result)   "
      ],
      "execution_count": 50,
      "outputs": [
        {
          "output_type": "stream",
          "text": [
            "02984\n",
            "576\n"
          ],
          "name": "stdout"
        }
      ]
    },
    {
      "cell_type": "code",
      "metadata": {
        "colab": {
          "base_uri": "https://localhost:8080/",
          "height": 279
        },
        "id": "YvvNtxle6aot",
        "outputId": "7f0e5e81-bc26-4133-db10-4d5b7c82264d"
      },
      "source": [
        "### 내 답안 ###\r\n",
        "n = int(input())\r\n",
        "x = list(map(int,input().split()))\r\n",
        "\r\n",
        "X = sorted(x, reverse=True)\r\n",
        "\r\n",
        "count = 0\r\n",
        "max_x = X[0]\r\n",
        "loc = 0\r\n",
        "\r\n",
        "while True:\r\n",
        "  if max_x <= n:\r\n",
        "    count+=1\r\n",
        "    n -= max_x \r\n",
        "    loc += max_x\r\n",
        "    max_x = X[loc]\r\n",
        "    if n ==0:\r\n",
        "      break\r\n",
        "\r\n",
        "print(count)\r\n"
      ],
      "execution_count": 74,
      "outputs": [
        {
          "output_type": "stream",
          "text": [
            "4\n",
            "3 3 2 2\n"
          ],
          "name": "stdout"
        },
        {
          "output_type": "error",
          "ename": "KeyboardInterrupt",
          "evalue": "ignored",
          "traceback": [
            "\u001b[0;31m---------------------------------------------------------------------------\u001b[0m",
            "\u001b[0;31mKeyboardInterrupt\u001b[0m                         Traceback (most recent call last)",
            "\u001b[0;32m<ipython-input-74-9909cef3c034>\u001b[0m in \u001b[0;36m<module>\u001b[0;34m()\u001b[0m\n\u001b[1;32m     10\u001b[0m \u001b[0;34m\u001b[0m\u001b[0m\n\u001b[1;32m     11\u001b[0m \u001b[0;32mwhile\u001b[0m \u001b[0;32mTrue\u001b[0m\u001b[0;34m:\u001b[0m\u001b[0;34m\u001b[0m\u001b[0;34m\u001b[0m\u001b[0m\n\u001b[0;32m---> 12\u001b[0;31m   \u001b[0;32mif\u001b[0m \u001b[0mmax_x\u001b[0m \u001b[0;34m<=\u001b[0m \u001b[0mn\u001b[0m\u001b[0;34m:\u001b[0m\u001b[0;34m\u001b[0m\u001b[0;34m\u001b[0m\u001b[0m\n\u001b[0m\u001b[1;32m     13\u001b[0m     \u001b[0mcount\u001b[0m\u001b[0;34m+=\u001b[0m\u001b[0;36m1\u001b[0m\u001b[0;34m\u001b[0m\u001b[0;34m\u001b[0m\u001b[0m\n\u001b[1;32m     14\u001b[0m     \u001b[0mn\u001b[0m \u001b[0;34m-=\u001b[0m \u001b[0mmax_x\u001b[0m\u001b[0;34m\u001b[0m\u001b[0;34m\u001b[0m\u001b[0m\n",
            "\u001b[0;31mKeyboardInterrupt\u001b[0m: "
          ]
        }
      ]
    },
    {
      "cell_type": "code",
      "metadata": {
        "colab": {
          "base_uri": "https://localhost:8080/"
        },
        "id": "9eOcYg0X97FJ",
        "outputId": "b68ec6ca-10d2-4714-f495-b0ad4d61f578"
      },
      "source": [
        "### 답안 예시 ###\r\n",
        "n = int(input())\r\n",
        "data = list(map(int, input().split()))\r\n",
        "data.sort()\r\n",
        "\r\n",
        "result = 0\r\n",
        "count = 0\r\n",
        "\r\n",
        "for i in data:\r\n",
        "  count += 1\r\n",
        "  if count >= i:\r\n",
        "    result += 1\r\n",
        "    count = 0\r\n",
        "  \r\n",
        "print(result)"
      ],
      "execution_count": 71,
      "outputs": [
        {
          "output_type": "stream",
          "text": [
            "4\n",
            "3 3 2 2\n",
            "1\n"
          ],
          "name": "stdout"
        }
      ]
    },
    {
      "cell_type": "markdown",
      "metadata": {
        "id": "Sou_ugbvxS-m"
      },
      "source": [
        "# **구현 문제**\r\n",
        "- 풀이를 떠올리는 것은 쉽지만 소스코드로 옮기기 어려운 문제\r\n",
        "\r\n",
        "- 알고리즘 문제에서의 2차원 공간은 **행렬**의 의미로 사용됨\r\n",
        "\r\n",
        "- 시뮬레이션 및 완전 탐색 문제에서는 2차원 공간에서의 **방향 벡터**가 자주 활용됨"
      ]
    },
    {
      "cell_type": "code",
      "metadata": {
        "colab": {
          "base_uri": "https://localhost:8080/"
        },
        "id": "rNVAtYj8CfN2",
        "outputId": "294fcb7a-f281-4403-d100-cea35e18a6d3"
      },
      "source": [
        "### 2차원 공간 ###\r\n",
        "for i in range(5):\r\n",
        "  for j in range(5):\r\n",
        "    print('(',i,',',j,')', end=' ')\r\n",
        "  print()"
      ],
      "execution_count": 1,
      "outputs": [
        {
          "output_type": "stream",
          "text": [
            "( 0 , 0 ) ( 0 , 1 ) ( 0 , 2 ) ( 0 , 3 ) ( 0 , 4 ) \n",
            "( 1 , 0 ) ( 1 , 1 ) ( 1 , 2 ) ( 1 , 3 ) ( 1 , 4 ) \n",
            "( 2 , 0 ) ( 2 , 1 ) ( 2 , 2 ) ( 2 , 3 ) ( 2 , 4 ) \n",
            "( 3 , 0 ) ( 3 , 1 ) ( 3 , 2 ) ( 3 , 3 ) ( 3 , 4 ) \n",
            "( 4 , 0 ) ( 4 , 1 ) ( 4 , 2 ) ( 4 , 3 ) ( 4 , 4 ) \n"
          ],
          "name": "stdout"
        }
      ]
    },
    {
      "cell_type": "code",
      "metadata": {
        "colab": {
          "base_uri": "https://localhost:8080/"
        },
        "id": "2-nOiLT_yBWn",
        "outputId": "994b7c7d-7170-4118-8995-b7b2041d344f"
      },
      "source": [
        "### 방향벡터 ###\r\n",
        "#동,북,서,남\r\n",
        "dx = [0,-1, 0,1]\r\n",
        "dy = [1,0,-1,0]\r\n",
        "\r\n",
        "#현재 위치\r\n",
        "x,y = 2,2\r\n",
        "\r\n",
        "for i in range(4):\r\n",
        "  #다음 위치\r\n",
        "  nx = x+dx[i]\r\n",
        "  ny = y+dy[i]\r\n",
        "  print(nx,ny)"
      ],
      "execution_count": 2,
      "outputs": [
        {
          "output_type": "stream",
          "text": [
            "2 3\n",
            "1 2\n",
            "2 1\n",
            "3 2\n"
          ],
          "name": "stdout"
        }
      ]
    },
    {
      "cell_type": "markdown",
      "metadata": {
        "id": "giMudhxo6LL_"
      },
      "source": [
        "<상하좌우>\r\n",
        "\r\n",
        "- NxN 크기. \r\n",
        "- 가장 왼쪽 위 좌표 = (1,1). \r\n",
        "- 가장 오른쪽 아래 좌표 = (N,N)\r\n",
        "- 상하좌우 이동\r\n",
        "- U,D,L,R로 이루어진 계획표 존재.\r\n",
        "\r\n",
        "=> 최종 위치 출력 "
      ]
    },
    {
      "cell_type": "code",
      "metadata": {
        "colab": {
          "base_uri": "https://localhost:8080/"
        },
        "id": "gp5napRFy8Cl",
        "outputId": "93d38ca5-8c4c-48e0-f84d-edddb27cffac"
      },
      "source": [
        "### 내 답안 ###\r\n",
        "n = int(input())\r\n",
        "plan = list((input().split()))\r\n",
        "\r\n",
        "x,y = 1,1\r\n",
        "\r\n",
        "#U,D,L,R\r\n",
        "dx = [-1,1,0,0]\r\n",
        "dy = [0,0,-1,1]\r\n",
        "\r\n",
        "for p in plan:\r\n",
        "  if p == 'U':\r\n",
        "    if x == 1:\r\n",
        "      pass\r\n",
        "    else:\r\n",
        "      x = x+dx[0]\r\n",
        "      y = y+dy[0]\r\n",
        "  elif p == 'D':\r\n",
        "    if x == 5:\r\n",
        "      pass\r\n",
        "    else:\r\n",
        "      x = x+dx[1]\r\n",
        "      y = y+dy[1]\r\n",
        "  elif p == 'L':\r\n",
        "    if x == 1:\r\n",
        "      pass\r\n",
        "    else:\r\n",
        "      x = x+dx[2]\r\n",
        "      y = y+dy[2]\r\n",
        "  elif p == 'R':\r\n",
        "    if x == 5:\r\n",
        "      pass\r\n",
        "    else:\r\n",
        "      x = x+dx[3]\r\n",
        "      y = y+dy[3]\r\n",
        "  \r\n",
        "print(x,end=' ')\r\n",
        "print(y, end=' ')\r\n",
        "    \r\n",
        "  \r\n",
        "\r\n"
      ],
      "execution_count": 9,
      "outputs": [
        {
          "output_type": "stream",
          "text": [
            "5\n",
            "R R R U D D\n",
            "3 4 "
          ],
          "name": "stdout"
        }
      ]
    },
    {
      "cell_type": "code",
      "metadata": {
        "colab": {
          "base_uri": "https://localhost:8080/"
        },
        "id": "5rhJtdtY2pJk",
        "outputId": "7a7de232-306e-4d1c-9296-cce40c8b6560"
      },
      "source": [
        "### 답안 예시 ###\r\n",
        "n = int(input())\r\n",
        "plans = input().split()\r\n",
        "\r\n",
        "x,y = 1,1\r\n",
        "\r\n",
        "#L,R,U,D에 따른 이동 방향\r\n",
        "dx = [0, 0, -1, 1]\r\n",
        "dy = [-1, 1, 0, 0]\r\n",
        "move_types = ['L', 'R', 'U', 'D']\r\n",
        "\r\n",
        "for plan in plans:\r\n",
        "  for i in range(len(move_types)):\r\n",
        "    if plan == move_types[i]:\r\n",
        "      nx = x + dx[i]\r\n",
        "      ny = y + dy[i]\r\n",
        "  if nx<1 or ny<1 or nx>n or ny>n:\r\n",
        "    continue\r\n",
        "  x,y = nx, ny\r\n",
        "\r\n",
        "print(x,y)"
      ],
      "execution_count": 11,
      "outputs": [
        {
          "output_type": "stream",
          "text": [
            "5\n",
            "R R R U D D\n",
            "3 4\n"
          ],
          "name": "stdout"
        }
      ]
    },
    {
      "cell_type": "markdown",
      "metadata": {
        "id": "uIiOERKhBzR9"
      },
      "source": [
        "<시간 문제>\r\n",
        "- 정수 N 입력\r\n",
        "- 00시 00분 00초 ~ N시 59분 59초 사이에 3이 포함되는 모든 경우의 수 구하기"
      ]
    },
    {
      "cell_type": "code",
      "metadata": {
        "colab": {
          "base_uri": "https://localhost:8080/"
        },
        "id": "buDyEhtV5XGq",
        "outputId": "8bfb9557-6b1e-4513-f85b-81e66c39fb84"
      },
      "source": [
        "### 답안 ###\r\n",
        "n = int(input())\r\n",
        "\r\n",
        "total = 0\r\n",
        "for i in range(n+1):\r\n",
        "  for j in range(60):\r\n",
        "    for k in range(60):\r\n",
        "      if '3' in str(i)+str(j)+str(k):\r\n",
        "        total+=1\r\n",
        "\r\n",
        "print(total)"
      ],
      "execution_count": 16,
      "outputs": [
        {
          "output_type": "stream",
          "text": [
            "5\n",
            "11475\n"
          ],
          "name": "stdout"
        }
      ]
    },
    {
      "cell_type": "markdown",
      "metadata": {
        "id": "u-URg5ZUMnG7"
      },
      "source": [
        "<왕실의 나이트>\r\n",
        "- 8x8 체스판\r\n",
        "- 나이트가 이동할 수 있는 모든 경우의 수 구하기\r\n",
        "- 나이트는 'L'자 형태로만 이동 가능\r\n",
        "\r\n",
        "  -> 수직으로 2칸 이동한 뒤, 수평으로 1칸 이동\r\n",
        "\r\n",
        "  -> 수평으로 2칸 이동한 뒤, 수직으로 1칸 이동\r\n",
        "-행은 1~ 8로, 열은 a ~ h로 표현됨"
      ]
    },
    {
      "cell_type": "code",
      "metadata": {
        "colab": {
          "base_uri": "https://localhost:8080/"
        },
        "id": "mtf0NsCu9OST",
        "outputId": "e9fdae8e-d145-443b-d9e5-5721d1a5944f"
      },
      "source": [
        "### 내 답안 ###\r\n",
        "loc = input()\r\n",
        "\r\n",
        "x = loc[0]\r\n",
        "y = int(loc[1])\r\n",
        "x_list = ['a','b','c','d','e','f','g','h']\r\n",
        "num_list = [1,2,3,4,5,6,7,8]\r\n",
        "\r\n",
        "for n in range(len(x_list)):\r\n",
        "  if x == x_list[n]:\r\n",
        "    x = n+1 \r\n",
        "\r\n",
        "dx = [-2,-2,2,2,-1,1,-1,1]\r\n",
        "dy = [-1,1,-1,1,-2,-2,2,2]\r\n",
        "\r\n",
        "count = 0\r\n",
        "\r\n",
        "for i in range(len(dx)):\r\n",
        "  if x + dx[i] >=1 and x+dx[i] <=8 and y+dy[i]>=1 and y+dy[i]<=8:\r\n",
        "      count += 1\r\n",
        "  \r\n",
        "print(count)"
      ],
      "execution_count": 26,
      "outputs": [
        {
          "output_type": "stream",
          "text": [
            "a1\n",
            "2\n"
          ],
          "name": "stdout"
        }
      ]
    },
    {
      "cell_type": "code",
      "metadata": {
        "colab": {
          "base_uri": "https://localhost:8080/"
        },
        "id": "m0qz7OL3C-TS",
        "outputId": "f194f205-5ef5-4b79-e1cc-0f65e24367ed"
      },
      "source": [
        "### 답안 예시 ###\r\n",
        "input_data = input()\r\n",
        "row = int(input_data[1])\r\n",
        "column = int(ord(input_data[0])) - int(ord('a')) + 1\r\n",
        "\r\n",
        "#나이트가 이동할 수 있는 8가지 방향 정의\r\n",
        "steps = [(-2,-1), (-1,-2), (1,-2), (2,-1),(2,1),(1,2),(-1,2),(-2,1)]\r\n",
        "\r\n",
        "#8가지 방향에 대하여 각 위치로 이동이 가능한지 확인\r\n",
        "result = 0\r\n",
        "for step in steps:\r\n",
        "  # 이동하고자 하는 위치 확인\r\n",
        "  next_row = row+step[0]\r\n",
        "  next_column = column+step[1]\r\n",
        "  # 해당 위치로 이동이 가능하다면 result 증가\r\n",
        "  if next_row >= 1 and next_row <=8 and next_column>=1 and next_column<=8:\r\n",
        "    result += 1\r\n",
        "\r\n",
        "print(result)"
      ],
      "execution_count": 27,
      "outputs": [
        {
          "output_type": "stream",
          "text": [
            "a1\n",
            "2\n"
          ],
          "name": "stdout"
        }
      ]
    },
    {
      "cell_type": "markdown",
      "metadata": {
        "id": "lNxon9rPNIqf"
      },
      "source": [
        "<문자열 재정렬>\r\n",
        "- 알파벳 대문자와 숫자(0~9)로만 구성된 문자열이 입력으로 주어짐.\r\n",
        "- 이때 모든 알파벳을 오름차순으로 정렬하여 이어서 출력한뒤, 그 뒤에 모든 숫자를 더한 값을 이어서 출력\r\n",
        "- ex) K1KA5CB7  => ABCKK13"
      ]
    },
    {
      "cell_type": "code",
      "metadata": {
        "colab": {
          "base_uri": "https://localhost:8080/"
        },
        "id": "EPCyWWBhMDAo",
        "outputId": "0ad6c1dc-cda1-43a1-c156-409f9aeaec80"
      },
      "source": [
        "### 내 답안 ###\r\n",
        "S = input()\r\n",
        "\r\n",
        "sum=0\r\n",
        "\r\n",
        "S = sorted(S)\r\n",
        "r = list()\r\n",
        "for s in S:\r\n",
        "  if ord(s) < ord('A'):\r\n",
        "    sum += int(s)\r\n",
        "  else:\r\n",
        "    r.append(s)\r\n",
        "\r\n",
        "r.append(str(sum))\r\n",
        "\r\n",
        "\r\n",
        "print(''.join(r)) # 리스트를 문자열로 변환 '' -> 공백없이 ' '-> 공백있이\r\n"
      ],
      "execution_count": 41,
      "outputs": [
        {
          "output_type": "stream",
          "text": [
            "K1KA5CB7\n",
            "ABCKK13\n"
          ],
          "name": "stdout"
        }
      ]
    },
    {
      "cell_type": "code",
      "metadata": {
        "colab": {
          "base_uri": "https://localhost:8080/"
        },
        "id": "i_Euv7EDNtuy",
        "outputId": "4cb994a9-6380-4955-d2cd-f2f572be5d2b"
      },
      "source": [
        "### 답안 예시 ###\r\n",
        "data = input()\r\n",
        "result = []\r\n",
        "value = 0\r\n",
        "\r\n",
        "#문자를 하나씩 확인하며\r\n",
        "for x in data:\r\n",
        "  #알파벳인 경우 결과 리스트에 삽입\r\n",
        "  if x.isalpha():\r\n",
        "    result.append(x)\r\n",
        "  #숫자는 따로 더하기\r\n",
        "  else:\r\n",
        "    value += int(x)\r\n",
        "\r\n",
        "# 알파벳을 오름차순으로 정렬\r\n",
        "result.sort()\r\n",
        "\r\n",
        "#숫자가 하나라도 존재하는 경우 가장 뒤에 삽입\r\n",
        "if value !=0:\r\n",
        "  result.append(str(value))\r\n",
        "\r\n",
        "#최종 결과 출력(리스트를 문자열로 변환하여 출력)\r\n",
        "print(''.join(result))"
      ],
      "execution_count": 44,
      "outputs": [
        {
          "output_type": "stream",
          "text": [
            "K1KA5CB7\n",
            "ABCKK13\n"
          ],
          "name": "stdout"
        }
      ]
    },
    {
      "cell_type": "code",
      "metadata": {
        "id": "vT9Qx7ZJQ3qL"
      },
      "source": [
        ""
      ],
      "execution_count": null,
      "outputs": []
    }
  ]
}